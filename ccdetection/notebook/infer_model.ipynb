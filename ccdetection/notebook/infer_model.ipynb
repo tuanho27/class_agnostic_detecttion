{
 "cells": [
  {
   "cell_type": "markdown",
   "metadata": {},
   "source": [
    "# Libraries"
   ]
  },
  {
   "cell_type": "code",
   "execution_count": null,
   "metadata": {},
   "outputs": [],
   "source": [
    "%load_ext autoreload\n",
    "%autoreload 2\n",
    "\n",
    "import os\n",
    "os.environ[\"CUDA_VISIBLE_DEVICES\"] = \"0\"\n",
    "\n",
    "import numpy as np\n",
    "from PIL import Image\n",
    "from time import time\n",
    "import torch, argparse, cv2\n",
    "from matplotlib import pyplot as plt\n",
    "\n",
    "import mmcv, torch\n",
    "from mmdet.models import build_detector\n",
    "from mmcv.runner import load_checkpoint, get_dist_info"
   ]
  },
  {
   "cell_type": "markdown",
   "metadata": {},
   "source": [
    "# Parameters"
   ]
  },
  {
   "cell_type": "code",
   "execution_count": null,
   "metadata": {},
   "outputs": [],
   "source": [
    "config_file = \"../configs/bdd/retinaselfdistill_efficient.py\"\n",
    "checkpoint = \"/home/cybercore/thuync/checkpoints/retinaselfdistill_efficient/epoch_64.pth\"\n",
    "\n",
    "input_sz = 224\n",
    "use_cuda = True"
   ]
  },
  {
   "cell_type": "markdown",
   "metadata": {},
   "source": [
    "# Main"
   ]
  },
  {
   "cell_type": "code",
   "execution_count": null,
   "metadata": {},
   "outputs": [],
   "source": [
    "# Build model\n",
    "cfg = mmcv.Config.fromfile(config_file)\n",
    "# cfg.model.pretrained = None\n",
    "if cfg.get('cudnn_benchmark', False):\n",
    "    torch.backends.cudnn.benchmark = True\n",
    "model = build_detector(cfg.model, train_cfg=None, test_cfg=cfg.test_cfg)\n",
    "model.eval()\n",
    "if checkpoint is not None:\n",
    "    load_checkpoint(model, checkpoint, map_location='cpu')"
   ]
  },
  {
   "cell_type": "code",
   "execution_count": null,
   "metadata": {},
   "outputs": [],
   "source": [
    "print('segm_results_len:', len(segm_results))\n",
    "for segms in segm_results:\n",
    "    for segm in segms:\n",
    "        print(segm['size'], segm['counts'])"
   ]
  },
  {
   "cell_type": "code",
   "execution_count": null,
   "metadata": {},
   "outputs": [],
   "source": []
  }
 ],
 "metadata": {
  "kernelspec": {
   "display_name": "Python 3",
   "language": "python",
   "name": "python3"
  },
  "language_info": {
   "codemirror_mode": {
    "name": "ipython",
    "version": 3
   },
   "file_extension": ".py",
   "mimetype": "text/x-python",
   "name": "python",
   "nbconvert_exporter": "python",
   "pygments_lexer": "ipython3",
   "version": "3.7.1"
  }
 },
 "nbformat": 4,
 "nbformat_minor": 2
}
